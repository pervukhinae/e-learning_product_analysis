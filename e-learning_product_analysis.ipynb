{
 "cells": [
  {
   "cell_type": "markdown",
   "metadata": {},
   "source": [
    "#### Описание данных:<br> \n",
    "assessments.csv — этот файл содержит информацию об оценках в тесте. Обычно каждый предмет в семестре включает ряд тестов с оценками, за которыми следует заключительный экзаменационный тест (экзамен).<br>\n",
    "code_module — идентификационный код предмета.<br>\n",
    "code_presentation — семестр (Идентификационный код).<br>\n",
    "id_assessment — тест (Идентификационный номер ассессмента).<br>\n",
    "assessment_type — тип теста. Существуют три типа оценивания: оценка преподавателя (TMA), компьютерная оценка (СМА), экзамен по курсу (Exam).<br>\n",
    "date — информация об окончательной дате сдачи теста. Рассчитывается как количество дней с момента начала семестра. Дата начала семестра имеет номер 0 (ноль).<br>\n",
    "weight — вес теста в % в оценке за курс. Обычно экзамены рассматриваются отдельно и имеют вес 100%; сумма всех остальных оценок составляет 100%.<br>\n",
    "<br>\n",
    "courses.csv — файл содержит список предметов по семестрам.<br>\n",
    "code_module — предмет (идентификационный код).<br>\n",
    "code_presentation — семестр (идентификационный код).<br>\n",
    "module_presentation_length — продолжительность семестра в днях.<br>\n",
    "<br>\n",
    "studentAssessment.csv — этот файл содержит результаты тестов студентов. Если учащийся не отправляет работу на оценку, результат не записывается в таблицу.<br>\n",
    "id_assessment — тест (идентификационный номер).<br>\n",
    "id_student — идентификационный номер студента.<br>\n",
    "date_submitted — дата сдачи теста студентом, измеряемая как количество дней с начала семестра.<br>\n",
    "is_banked — факт перезачета теста с прошлого семестра (иногда курсы перезачитывают студентам, вернувшимся из академического отпуска).<br>\n",
    "score — оценка учащегося в этом тесте. Диапазон составляет от 0 до 100. Оценка ниже 40 неудачная/неуспешная сдача теста.<br>\n",
    "<br>\n",
    "studentRegistration.csv — этот файл содержит информацию о времени, когда студент зарегистрировался для прохождения курса в семестре.<br>\n",
    "code_module — предмет (идентификационный код).<br>\n",
    "code_presentation — семестр (идентификационный код)<br>\n",
    "id_student — идентификационный номер студента.<br>\n",
    "date_registration — дата регистрации студента. Это количество дней, измеренное от начала семестра (например, отрицательное значение -30 означает, что студент зарегистрировался на прохождение курса за 30 дней до его начала).<br>\n",
    "date_unregistration — дата отмены регистрации студента с предмета. У студентов, окончивших курс, это поле остается пустым."
   ]
  },
  {
   "cell_type": "code",
   "execution_count": 1,
   "metadata": {},
   "outputs": [],
   "source": [
    "import pandas as pd\n",
    "import matplotlib.pyplot as plt\n",
    "import requests\n",
    "from urllib.parse import urlencode"
   ]
  },
  {
   "cell_type": "code",
   "execution_count": 2,
   "metadata": {},
   "outputs": [],
   "source": [
    "base_url = 'https://cloud-api.yandex.net/v1/disk/public/resources/download?'\n",
    "assessments_public_key = 'https://disk.yandex.ru/d/iSVP1sZ7AdW7TQ'\n",
    "courses_public_key = 'https://disk.yandex.ru/d/jmJxR8yhwCXlaw'\n",
    "studentAssessment_public_key = 'https://disk.yandex.ru/d/DYd4M5b_8RETsA'\n",
    "studentRegistration_public_key = 'https://disk.yandex.ru/d/lqHnH8NOZ458iw'"
   ]
  },
  {
   "cell_type": "code",
   "execution_count": 3,
   "metadata": {},
   "outputs": [],
   "source": [
    "def download_csv(public_key):\n",
    "    \n",
    "    final_url = base_url + urlencode(dict(public_key=public_key)) \n",
    "    response = requests.get(final_url) \n",
    "    download_url = response.json()['href'] \n",
    "    return download_url"
   ]
  },
  {
   "cell_type": "code",
   "execution_count": 4,
   "metadata": {},
   "outputs": [],
   "source": [
    "df_assessments = pd.read_csv(download_csv(assessments_public_key))\n",
    "df_courses = pd.read_csv(download_csv(courses_public_key))\n",
    "df_studentAssessment = pd.read_csv(download_csv(studentAssessment_public_key))\n",
    "df_studentRegistration = pd.read_csv(download_csv(studentRegistration_public_key))"
   ]
  },
  {
   "cell_type": "markdown",
   "metadata": {},
   "source": [
    "1. Сколько студентов успешно сдали только один курс? (Успешная сдача — это зачёт по курсу на экзамене) "
   ]
  },
  {
   "cell_type": "markdown",
   "metadata": {},
   "source": [
    "курс - это один предмет за один семестр, то есть каждый экзамен - за пройденный курс"
   ]
  },
  {
   "cell_type": "code",
   "execution_count": 5,
   "metadata": {},
   "outputs": [],
   "source": [
    "df_exam = df_assessments.query('assessment_type == \"Exam\"') #отбираю данные с с типом теста - экзамен"
   ]
  },
  {
   "cell_type": "code",
   "execution_count": 6,
   "metadata": {},
   "outputs": [],
   "source": [
    "df_score_for_exam = df_studentAssessment \\\n",
    "                    .merge(df_exam, on='id_assessment') \\\n",
    "                    .drop(columns = ['is_banked', 'weight']) \n",
    "#объединяю таблицу с указанным типом теста и таблицу с данными об оценке учащегося в этом тесте"
   ]
  },
  {
   "cell_type": "code",
   "execution_count": 38,
   "metadata": {},
   "outputs": [
    {
     "data": {
      "text/plain": [
       "3802"
      ]
     },
     "execution_count": 38,
     "metadata": {},
     "output_type": "execute_result"
    }
   ],
   "source": [
    "df_passed_one_exam = df_score_for_exam.query('score >= 40')\\\n",
    "                    .groupby('id_student', as_index=False)\\\n",
    "                    .agg({'id_assessment':'nunique'})\\\n",
    "                    .query('id_assessment == 1')\n",
    "df_passed_one_exam.id_student.count()\n",
    "#отбираю данные, удвлетворяющие условию (успешная сдача экзамена, т.е. оценка выше 40 + сдан только один экзамен)"
   ]
  },
  {
   "cell_type": "markdown",
   "metadata": {},
   "source": [
    "ОТВЕТ: 3802 студенда успешно сдали только один курс"
   ]
  },
  {
   "cell_type": "markdown",
   "metadata": {},
   "source": [
    "2. Необходимо выявить самый сложный и самый простой экзамен: найди курсы и экзамены в рамках курса, которые обладают самой низкой и самой высокой завершаемостью.<br>   \n",
    "завершаемость = кол-во успешных экзаменов / кол-во всех попыток сдать экзамен"
   ]
  },
  {
   "cell_type": "code",
   "execution_count": 10,
   "metadata": {},
   "outputs": [],
   "source": [
    "df_passed_exam = df_score_for_exam.query('score >= 40')"
   ]
  },
  {
   "cell_type": "code",
   "execution_count": 78,
   "metadata": {},
   "outputs": [],
   "source": [
    "successful_exams = df_passed_exam.groupby(['code_module', 'id_assessment'])\\\n",
    "                                    .agg({'score' : 'count'})\n",
    "# Определение количества успешных попыток сдачи тестов"
   ]
  },
  {
   "cell_type": "code",
   "execution_count": 77,
   "metadata": {},
   "outputs": [],
   "source": [
    "all_exams = df_score_for_exam.groupby(['code_module', 'id_assessment'])\\\n",
    "                            .agg({'score' : 'count'}) \n",
    "# Определение общего кол-ва попыток сдачи тестов"
   ]
  },
  {
   "cell_type": "code",
   "execution_count": 79,
   "metadata": {},
   "outputs": [
    {
     "data": {
      "text/html": [
       "<div>\n",
       "<style scoped>\n",
       "    .dataframe tbody tr th:only-of-type {\n",
       "        vertical-align: middle;\n",
       "    }\n",
       "\n",
       "    .dataframe tbody tr th {\n",
       "        vertical-align: top;\n",
       "    }\n",
       "\n",
       "    .dataframe thead th {\n",
       "        text-align: right;\n",
       "    }\n",
       "</style>\n",
       "<table border=\"1\" class=\"dataframe\">\n",
       "  <thead>\n",
       "    <tr style=\"text-align: right;\">\n",
       "      <th></th>\n",
       "      <th></th>\n",
       "      <th>completion_rate</th>\n",
       "    </tr>\n",
       "    <tr>\n",
       "      <th>code_module</th>\n",
       "      <th>id_assessment</th>\n",
       "      <th></th>\n",
       "    </tr>\n",
       "  </thead>\n",
       "  <tbody>\n",
       "    <tr>\n",
       "      <th>DDD</th>\n",
       "      <th>25340</th>\n",
       "      <td>0.837209</td>\n",
       "    </tr>\n",
       "    <tr>\n",
       "      <th>CCC</th>\n",
       "      <th>24299</th>\n",
       "      <td>0.872432</td>\n",
       "    </tr>\n",
       "    <tr>\n",
       "      <th>DDD</th>\n",
       "      <th>25368</th>\n",
       "      <td>0.886316</td>\n",
       "    </tr>\n",
       "    <tr>\n",
       "      <th>CCC</th>\n",
       "      <th>24290</th>\n",
       "      <td>0.888889</td>\n",
       "    </tr>\n",
       "    <tr>\n",
       "      <th rowspan=\"2\" valign=\"top\">DDD</th>\n",
       "      <th>25354</th>\n",
       "      <td>0.907025</td>\n",
       "    </tr>\n",
       "    <tr>\n",
       "      <th>25361</th>\n",
       "      <td>0.925573</td>\n",
       "    </tr>\n",
       "  </tbody>\n",
       "</table>\n",
       "</div>"
      ],
      "text/plain": [
       "                           completion_rate\n",
       "code_module id_assessment                 \n",
       "DDD         25340                 0.837209\n",
       "CCC         24299                 0.872432\n",
       "DDD         25368                 0.886316\n",
       "CCC         24290                 0.888889\n",
       "DDD         25354                 0.907025\n",
       "            25361                 0.925573"
      ]
     },
     "execution_count": 79,
     "metadata": {},
     "output_type": "execute_result"
    }
   ],
   "source": [
    "difference = successful_exams/all_exams\n",
    "difference = difference.rename(columns={\"score\": \"completion_rate\"})\n",
    "difference.sort_values('completion_rate')\n",
    "# Расчет уровня завершаемости"
   ]
  },
  {
   "cell_type": "code",
   "execution_count": 80,
   "metadata": {},
   "outputs": [],
   "source": [
    "easiest_exam = difference['completion_rate'].idxmax()\n",
    "most_difficult_exam = difference['completion_rate'].idxmin()"
   ]
  },
  {
   "cell_type": "code",
   "execution_count": 83,
   "metadata": {},
   "outputs": [
    {
     "name": "stdout",
     "output_type": "stream",
     "text": [
      "Код предмета и ID теста с самой низкой завершаемостью: DDD 25361 \n",
      "Код предмета и ID теста с самой высокой завершаемостью: DDD 25340\n"
     ]
    }
   ],
   "source": [
    "print('Код предмета и ID теста с самой низкой завершаемостью:', *easiest_exam, '\\nКод предмета и ID теста с самой высокой завершаемостью:', *most_difficult_exam)"
   ]
  },
  {
   "cell_type": "markdown",
   "metadata": {},
   "source": [
    "ОТВЕТ: самый простой экзамен - assessment 25361 по курсу предмета DDD в модуле 2014B,<br>\n",
    "самый сложный - assessment 25340 по курсу предмета DDD в модуле 2013B"
   ]
  },
  {
   "cell_type": "markdown",
   "metadata": {},
   "source": [
    "3. По каждому предмету определить средний срок сдачи экзаменов (под сдачей понимаем последнее успешное прохождение экзамена студентом)."
   ]
  },
  {
   "cell_type": "code",
   "execution_count": 18,
   "metadata": {},
   "outputs": [
    {
     "data": {
      "text/html": [
       "<div>\n",
       "<style scoped>\n",
       "    .dataframe tbody tr th:only-of-type {\n",
       "        vertical-align: middle;\n",
       "    }\n",
       "\n",
       "    .dataframe tbody tr th {\n",
       "        vertical-align: top;\n",
       "    }\n",
       "\n",
       "    .dataframe thead th {\n",
       "        text-align: right;\n",
       "    }\n",
       "</style>\n",
       "<table border=\"1\" class=\"dataframe\">\n",
       "  <thead>\n",
       "    <tr style=\"text-align: right;\">\n",
       "      <th></th>\n",
       "      <th>avg_time_per_exam</th>\n",
       "    </tr>\n",
       "    <tr>\n",
       "      <th>code_module</th>\n",
       "      <th></th>\n",
       "    </tr>\n",
       "  </thead>\n",
       "  <tbody>\n",
       "    <tr>\n",
       "      <th>CCC</th>\n",
       "      <td>239.35</td>\n",
       "    </tr>\n",
       "    <tr>\n",
       "      <th>DDD</th>\n",
       "      <td>237.98</td>\n",
       "    </tr>\n",
       "  </tbody>\n",
       "</table>\n",
       "</div>"
      ],
      "text/plain": [
       "             avg_time_per_exam\n",
       "code_module                   \n",
       "CCC                     239.35\n",
       "DDD                     237.98"
      ]
     },
     "execution_count": 18,
     "metadata": {},
     "output_type": "execute_result"
    }
   ],
   "source": [
    "df_exam_avg = df_score_for_exam.query('score >= 40')\\\n",
    "                .groupby('code_module')\\\n",
    "                .agg({'date_submitted':'mean'})\\\n",
    "                .round(2)\n",
    "df_exam_avg = df_exam_avg.rename(columns={\"date_submitted\": \"avg_time_per_exam\"})\n",
    "df_exam_avg"
   ]
  },
  {
   "cell_type": "markdown",
   "metadata": {},
   "source": [
    "ОТВЕТ: средний срок сдачи экзаменов по предмету CCC - 239.35, DDD - 237.98"
   ]
  },
  {
   "cell_type": "markdown",
   "metadata": {},
   "source": [
    "4. Выявить самые популярные предметы (ТОП-3) по количеству регистраций на них.<br> \n",
    "А также предметы с самым большим оттоком (ТОП-3)."
   ]
  },
  {
   "cell_type": "code",
   "execution_count": 21,
   "metadata": {},
   "outputs": [],
   "source": [
    "df_Registration = df_studentRegistration.groupby('code_module', as_index=False)\\\n",
    "                .agg({'date_registration':'count'})\\\n",
    "                .sort_values('date_registration')"
   ]
  },
  {
   "cell_type": "code",
   "execution_count": 22,
   "metadata": {},
   "outputs": [
    {
     "data": {
      "text/plain": [
       "code_module             0\n",
       "code_presentation       0\n",
       "id_student              0\n",
       "date_registration      39\n",
       "date_unregistration     0\n",
       "dtype: int64"
      ]
     },
     "execution_count": 22,
     "metadata": {},
     "output_type": "execute_result"
    }
   ],
   "source": [
    "df_unRegistration = df_studentRegistration.dropna(subset =['date_unregistration'])\n",
    "df_unRegistration.isna().sum()\n",
    "\n",
    "# существует 39 записей в таблице, согласно которым отмена записи на курс происошла без зафиксированной даты записи. \n",
    "# Можно считать, что произошла ошибка в записи данных и дата записи на курс в этих случаях не была зафиксирована. "
   ]
  },
  {
   "cell_type": "code",
   "execution_count": 23,
   "metadata": {},
   "outputs": [],
   "source": [
    "df_Unregistration = df_unRegistration.groupby('code_module', as_index=False)\\\n",
    "                .agg({'date_unregistration':'count'})\\\n",
    "                .sort_values('date_unregistration')"
   ]
  },
  {
   "cell_type": "markdown",
   "metadata": {},
   "source": [
    "ОТВЕТ: ТОП-3 самых популярных предмета: BBB, FFF, DDD.<br> \n",
    "ТОП-3 предмета с самым большим оттоком: FFF, BBB, DDD."
   ]
  },
  {
   "cell_type": "markdown",
   "metadata": {},
   "source": [
    "5. В период с начала 2013 по конец 2014 выяви семестр с самой низкой завершаемостью курсов и самыми долгими средними сроками сдачи курсов. "
   ]
  },
  {
   "cell_type": "code",
   "execution_count": 26,
   "metadata": {},
   "outputs": [],
   "source": [
    "df_all_attempts = df_score_for_exam.groupby('code_presentation')\\\n",
    "                .agg({'score':'count'})"
   ]
  },
  {
   "cell_type": "code",
   "execution_count": 27,
   "metadata": {},
   "outputs": [],
   "source": [
    "df_passed_exams = df_score_for_exam.query('score >= 40')\\\n",
    "                .groupby('code_presentation')\\\n",
    "                .agg({'score':'count'})"
   ]
  },
  {
   "cell_type": "code",
   "execution_count": 28,
   "metadata": {},
   "outputs": [],
   "source": [
    "df_difference = (df_passed_exams / df_all_attempts).sort_values('score')"
   ]
  },
  {
   "cell_type": "code",
   "execution_count": 29,
   "metadata": {},
   "outputs": [],
   "source": [
    "df_avg = df_score_for_exam.query('score >= 40')\\\n",
    "        .groupby('code_presentation')\\\n",
    "        .agg({'date_submitted':'mean'})\\\n",
    "        .sort_values('date_submitted')"
   ]
  },
  {
   "cell_type": "markdown",
   "metadata": {},
   "source": [
    "ОТВЕТ: семестр с самой низкой завершаемостью курсов - 2013B<br>\n",
    "семестр с самыми долгими средними сроками сдачи курсов - 2014J"
   ]
  },
  {
   "cell_type": "markdown",
   "metadata": {},
   "source": [
    "6.RFM-анализ"
   ]
  },
  {
   "cell_type": "markdown",
   "metadata": {},
   "source": [
    "R - среднее время сдачи студентом одного экзамена,<br> \n",
    "F - завершаемость курсов (* завершаемость = кол-во успешных экзаменов / кол-во всех попыток сдать экзамен),<br>\n",
    "M - среднее количество баллов, получаемое за экзамен<br>"
   ]
  },
  {
   "cell_type": "code",
   "execution_count": 33,
   "metadata": {},
   "outputs": [],
   "source": [
    "# (R) рассчитываю среднее время сдачи студентом одного экзамена от начала семестра и до последней сдачи (первым предположением было рассчитать время от первой попытки сдачи экзамена до последней успешной попытки, но случаев пересдачи выявлено не было)\n",
    "df_exam_avg_student = df_score_for_exam.groupby(['id_student'], as_index=False)\\\n",
    "                 .agg({'date_submitted': 'mean'})"
   ]
  },
  {
   "cell_type": "code",
   "execution_count": 102,
   "metadata": {},
   "outputs": [
    {
     "data": {
      "text/html": [
       "<div>\n",
       "<style scoped>\n",
       "    .dataframe tbody tr th:only-of-type {\n",
       "        vertical-align: middle;\n",
       "    }\n",
       "\n",
       "    .dataframe tbody tr th {\n",
       "        vertical-align: top;\n",
       "    }\n",
       "\n",
       "    .dataframe thead th {\n",
       "        text-align: right;\n",
       "    }\n",
       "</style>\n",
       "<table border=\"1\" class=\"dataframe\">\n",
       "  <thead>\n",
       "    <tr style=\"text-align: right;\">\n",
       "      <th></th>\n",
       "      <th>score</th>\n",
       "    </tr>\n",
       "    <tr>\n",
       "      <th>id_student</th>\n",
       "      <th></th>\n",
       "    </tr>\n",
       "  </thead>\n",
       "  <tbody>\n",
       "    <tr>\n",
       "      <th>23698</th>\n",
       "      <td>1</td>\n",
       "    </tr>\n",
       "    <tr>\n",
       "      <th>24213</th>\n",
       "      <td>1</td>\n",
       "    </tr>\n",
       "    <tr>\n",
       "      <th>27116</th>\n",
       "      <td>1</td>\n",
       "    </tr>\n",
       "    <tr>\n",
       "      <th>28046</th>\n",
       "      <td>1</td>\n",
       "    </tr>\n",
       "    <tr>\n",
       "      <th>28787</th>\n",
       "      <td>1</td>\n",
       "    </tr>\n",
       "  </tbody>\n",
       "</table>\n",
       "</div>"
      ],
      "text/plain": [
       "            score\n",
       "id_student       \n",
       "23698           1\n",
       "24213           1\n",
       "27116           1\n",
       "28046           1\n",
       "28787           1"
      ]
     },
     "execution_count": 102,
     "metadata": {},
     "output_type": "execute_result"
    }
   ],
   "source": [
    "exam_attempts = df_score_for_exam.groupby(['id_student'])\\\n",
    "               .agg({'score':'count'})\n",
    "exam_attempts.head()\n",
    "# нахожу количество всех попыток сдать экзамен для каждого студента"
   ]
  },
  {
   "cell_type": "code",
   "execution_count": 101,
   "metadata": {},
   "outputs": [
    {
     "data": {
      "text/html": [
       "<div>\n",
       "<style scoped>\n",
       "    .dataframe tbody tr th:only-of-type {\n",
       "        vertical-align: middle;\n",
       "    }\n",
       "\n",
       "    .dataframe tbody tr th {\n",
       "        vertical-align: top;\n",
       "    }\n",
       "\n",
       "    .dataframe thead th {\n",
       "        text-align: right;\n",
       "    }\n",
       "</style>\n",
       "<table border=\"1\" class=\"dataframe\">\n",
       "  <thead>\n",
       "    <tr style=\"text-align: right;\">\n",
       "      <th></th>\n",
       "      <th>score</th>\n",
       "    </tr>\n",
       "    <tr>\n",
       "      <th>id_student</th>\n",
       "      <th></th>\n",
       "    </tr>\n",
       "  </thead>\n",
       "  <tbody>\n",
       "    <tr>\n",
       "      <th>23698</th>\n",
       "      <td>1</td>\n",
       "    </tr>\n",
       "    <tr>\n",
       "      <th>24213</th>\n",
       "      <td>1</td>\n",
       "    </tr>\n",
       "    <tr>\n",
       "      <th>27116</th>\n",
       "      <td>1</td>\n",
       "    </tr>\n",
       "    <tr>\n",
       "      <th>28046</th>\n",
       "      <td>1</td>\n",
       "    </tr>\n",
       "    <tr>\n",
       "      <th>28787</th>\n",
       "      <td>1</td>\n",
       "    </tr>\n",
       "  </tbody>\n",
       "</table>\n",
       "</div>"
      ],
      "text/plain": [
       "            score\n",
       "id_student       \n",
       "23698           1\n",
       "24213           1\n",
       "27116           1\n",
       "28046           1\n",
       "28787           1"
      ]
     },
     "execution_count": 101,
     "metadata": {},
     "output_type": "execute_result"
    }
   ],
   "source": [
    "successful_attempts = df_score_for_exam.query('score >= 40')\\\n",
    "               .groupby(['id_student'])\\\n",
    "               .agg({'score':'count'})\n",
    "successful_attempts.head()\n",
    "# нахожу количество удачных попыток сдать экзамен для каждого студента"
   ]
  },
  {
   "cell_type": "code",
   "execution_count": 103,
   "metadata": {},
   "outputs": [],
   "source": [
    "# (F) вычисляю завершаемость курсов для каждого студента\n",
    "completion_rate = successful_attempts / exam_attempts\n",
    "completion_rate = completion_rate.fillna(0).rename(columns={'score':'completion_rate'})"
   ]
  },
  {
   "cell_type": "code",
   "execution_count": 104,
   "metadata": {},
   "outputs": [],
   "source": [
    "# (M) нахожу среднюю оценку за экзамен для каждого студента (все оценки за всее экзамены, включая неудачные)\n",
    "df_score_avg_student = df_score_for_exam.groupby('id_student', as_index=False)\\\n",
    "                        .agg({'score':'mean'})"
   ]
  },
  {
   "cell_type": "code",
   "execution_count": 105,
   "metadata": {},
   "outputs": [],
   "source": [
    "df_rfm = df_exam_avg_student.merge(completion_rate, on='id_student')\\\n",
    "         .merge(df_score_avg_student, on='id_student')\\\n",
    "         .rename(columns={'date_submitted': 'avg_time_per_exam',  \n",
    "                          'score' : 'avg_score_per_exam'})"
   ]
  },
  {
   "cell_type": "code",
   "execution_count": 106,
   "metadata": {},
   "outputs": [
    {
     "data": {
      "text/html": [
       "<div>\n",
       "<style scoped>\n",
       "    .dataframe tbody tr th:only-of-type {\n",
       "        vertical-align: middle;\n",
       "    }\n",
       "\n",
       "    .dataframe tbody tr th {\n",
       "        vertical-align: top;\n",
       "    }\n",
       "\n",
       "    .dataframe thead th {\n",
       "        text-align: right;\n",
       "    }\n",
       "</style>\n",
       "<table border=\"1\" class=\"dataframe\">\n",
       "  <thead>\n",
       "    <tr style=\"text-align: right;\">\n",
       "      <th></th>\n",
       "      <th>id_student</th>\n",
       "      <th>avg_time_per_exam</th>\n",
       "      <th>completion_rate</th>\n",
       "      <th>avg_score_per_exam</th>\n",
       "    </tr>\n",
       "  </thead>\n",
       "  <tbody>\n",
       "    <tr>\n",
       "      <th>count</th>\n",
       "      <td>4.633000e+03</td>\n",
       "      <td>4633.000000</td>\n",
       "      <td>4633.000000</td>\n",
       "      <td>4633.000000</td>\n",
       "    </tr>\n",
       "    <tr>\n",
       "      <th>mean</th>\n",
       "      <td>7.256904e+05</td>\n",
       "      <td>238.462227</td>\n",
       "      <td>0.881286</td>\n",
       "      <td>65.117958</td>\n",
       "    </tr>\n",
       "    <tr>\n",
       "      <th>std</th>\n",
       "      <td>5.753498e+05</td>\n",
       "      <td>5.653378</td>\n",
       "      <td>0.321142</td>\n",
       "      <td>20.470561</td>\n",
       "    </tr>\n",
       "    <tr>\n",
       "      <th>min</th>\n",
       "      <td>2.369800e+04</td>\n",
       "      <td>229.000000</td>\n",
       "      <td>0.000000</td>\n",
       "      <td>0.000000</td>\n",
       "    </tr>\n",
       "    <tr>\n",
       "      <th>25%</th>\n",
       "      <td>5.011580e+05</td>\n",
       "      <td>234.000000</td>\n",
       "      <td>1.000000</td>\n",
       "      <td>50.000000</td>\n",
       "    </tr>\n",
       "    <tr>\n",
       "      <th>50%</th>\n",
       "      <td>5.884820e+05</td>\n",
       "      <td>241.000000</td>\n",
       "      <td>1.000000</td>\n",
       "      <td>66.000000</td>\n",
       "    </tr>\n",
       "    <tr>\n",
       "      <th>75%</th>\n",
       "      <td>6.463510e+05</td>\n",
       "      <td>243.000000</td>\n",
       "      <td>1.000000</td>\n",
       "      <td>82.000000</td>\n",
       "    </tr>\n",
       "    <tr>\n",
       "      <th>max</th>\n",
       "      <td>2.698251e+06</td>\n",
       "      <td>285.000000</td>\n",
       "      <td>1.000000</td>\n",
       "      <td>100.000000</td>\n",
       "    </tr>\n",
       "  </tbody>\n",
       "</table>\n",
       "</div>"
      ],
      "text/plain": [
       "         id_student  avg_time_per_exam  completion_rate  avg_score_per_exam\n",
       "count  4.633000e+03        4633.000000      4633.000000         4633.000000\n",
       "mean   7.256904e+05         238.462227         0.881286           65.117958\n",
       "std    5.753498e+05           5.653378         0.321142           20.470561\n",
       "min    2.369800e+04         229.000000         0.000000            0.000000\n",
       "25%    5.011580e+05         234.000000         1.000000           50.000000\n",
       "50%    5.884820e+05         241.000000         1.000000           66.000000\n",
       "75%    6.463510e+05         243.000000         1.000000           82.000000\n",
       "max    2.698251e+06         285.000000         1.000000          100.000000"
      ]
     },
     "execution_count": 106,
     "metadata": {},
     "output_type": "execute_result"
    }
   ],
   "source": [
    "df_rfm.describe()"
   ]
  },
  {
   "cell_type": "markdown",
   "metadata": {},
   "source": [
    "Исходя из распределения данных, выделяю следующие <b>ранги для каждого показателя</b>:<br> \n",
    "avg_time_per_exam (R): четыре ранга по 3 перцентилям (до 25%, 25% - 50%, 50% - 75%, выше 75%; чем быстрее сдан экзамен, тем выше ранг)<br>completion_rate (F): три ранга по каждому значению (1 - плохая завершаемость, ни одной удачной попытки, 2 - средняя завершаемость, 3 - хорошая завершаемость, все попытки удачные)<br>avg_score_per_exam (M): четыре ранга, которые примерно соответсвуют переводу стобальной системы в пятибальную шкалу оценки (1 - не сдано до 40 баллов, 2 - \"тройка\" до 60 баллов, 3 - \"четверка\" до 85 баллов, 4 - \"пятерка\" выше 85 быллов)"
   ]
  },
  {
   "cell_type": "code",
   "execution_count": 107,
   "metadata": {},
   "outputs": [
    {
     "data": {
      "text/plain": [
       "{0.25: 234.0, 0.5: 241.0, 0.75: 243.0}"
      ]
     },
     "execution_count": 107,
     "metadata": {},
     "output_type": "execute_result"
    }
   ],
   "source": [
    "quintiles = df_rfm['avg_time_per_exam'].quantile([.25, .50, .75]).to_dict()\n",
    "quintiles"
   ]
  },
  {
   "cell_type": "code",
   "execution_count": 108,
   "metadata": {},
   "outputs": [],
   "source": [
    "def r_score(x):\n",
    "    if x <= quintiles[.25]:\n",
    "        return 4\n",
    "    elif x <= quintiles[.50]:\n",
    "        return 3\n",
    "    elif x <= quintiles[.75]:\n",
    "        return 2\n",
    "    else:\n",
    "        return 1"
   ]
  },
  {
   "cell_type": "code",
   "execution_count": 109,
   "metadata": {},
   "outputs": [],
   "source": [
    "def f_score(x):\n",
    "    if x == 1:\n",
    "        return 3\n",
    "    elif x == 0.5:\n",
    "        return 2\n",
    "    else:\n",
    "        return 1"
   ]
  },
  {
   "cell_type": "code",
   "execution_count": 110,
   "metadata": {},
   "outputs": [],
   "source": [
    "def m_score(x):\n",
    "    if x >= 85:\n",
    "        return 4\n",
    "    elif x >= 60:\n",
    "        return 3\n",
    "    elif x >= 40:\n",
    "        return 2\n",
    "    else:\n",
    "        return 1"
   ]
  },
  {
   "cell_type": "code",
   "execution_count": 111,
   "metadata": {},
   "outputs": [],
   "source": [
    "df_rfm['R'] = df_rfm['avg_time_per_exam'].apply(lambda x: r_score(x))\n",
    "df_rfm['F'] = df_rfm['completion_rate'].apply(lambda x: f_score(x))\n",
    "df_rfm['M'] = df_rfm['avg_score_per_exam'].apply(lambda x: m_score(x))"
   ]
  },
  {
   "cell_type": "code",
   "execution_count": 112,
   "metadata": {},
   "outputs": [],
   "source": [
    "df_rfm['RFM_Score'] = df_rfm['R'].map(str) + df_rfm['F'].map(str) + df_rfm['M'].map(str)"
   ]
  },
  {
   "cell_type": "code",
   "execution_count": 113,
   "metadata": {},
   "outputs": [],
   "source": [
    "RFM_Score = df_rfm.groupby('RFM_Score', as_index=False).agg({'id_student':'count'})"
   ]
  },
  {
   "cell_type": "code",
   "execution_count": 114,
   "metadata": {},
   "outputs": [],
   "source": [
    "segt_map = {\n",
    "    r'[1-2]11': 'самые слабые студенты',\n",
    "    r'[1-2]21': 'очень слабые результаты',\n",
    "    r'[1-2]2[2-3]': 'слабые результаты',\n",
    "    r'[1-2]24': 'нестабильные и долгие результаты (от неуд. до хороших оценок)',\n",
    "    r'[1-2]3[2-3]': 'средние, но долгие результаты',\n",
    "    r'[1-2]34': 'отличные, но долгие результаты',\n",
    "    r'[3-4]11': 'быстрая сдача, но отсутсвие результата',\n",
    "    r'[3-4]21': 'быстрая сдача, но очень слабые результаты',\n",
    "    r'[3-4]2[2-3]': 'быстрая сдача, но слабые результаты',\n",
    "    r'[3-4]24': 'нестабильные быстрые результаты (от неуд. до хороших оценок)',\n",
    "    r'[3-4]3[2-3]': 'средние быстрые результаты',\n",
    "    r'[3-4]34': 'самые сильные студенты'\n",
    "}\n",
    "\n",
    "df_rfm['Segment'] = df_rfm['R'].map(str) + df_rfm['F'].map(str) + df_rfm['M'].map(str)\n",
    "df_rfm['Segment'] = df_rfm['Segment'].replace(segt_map, regex=True)"
   ]
  },
  {
   "cell_type": "code",
   "execution_count": 115,
   "metadata": {},
   "outputs": [
    {
     "data": {
      "text/html": [
       "<div>\n",
       "<style scoped>\n",
       "    .dataframe tbody tr th:only-of-type {\n",
       "        vertical-align: middle;\n",
       "    }\n",
       "\n",
       "    .dataframe tbody tr th {\n",
       "        vertical-align: top;\n",
       "    }\n",
       "\n",
       "    .dataframe thead th {\n",
       "        text-align: right;\n",
       "    }\n",
       "</style>\n",
       "<table border=\"1\" class=\"dataframe\">\n",
       "  <thead>\n",
       "    <tr style=\"text-align: right;\">\n",
       "      <th></th>\n",
       "      <th>students_number</th>\n",
       "    </tr>\n",
       "    <tr>\n",
       "      <th>Segment</th>\n",
       "      <th></th>\n",
       "    </tr>\n",
       "  </thead>\n",
       "  <tbody>\n",
       "    <tr>\n",
       "      <th>очень слабые результаты</th>\n",
       "      <td>1</td>\n",
       "    </tr>\n",
       "    <tr>\n",
       "      <th>слабые результаты</th>\n",
       "      <td>3</td>\n",
       "    </tr>\n",
       "    <tr>\n",
       "      <th>быстрая сдача, но очень слабые результаты</th>\n",
       "      <td>6</td>\n",
       "    </tr>\n",
       "    <tr>\n",
       "      <th>быстрая сдача, но слабые результаты</th>\n",
       "      <td>18</td>\n",
       "    </tr>\n",
       "    <tr>\n",
       "      <th>самые слабые студенты</th>\n",
       "      <td>267</td>\n",
       "    </tr>\n",
       "    <tr>\n",
       "      <th>быстрая сдача, но отсутсвие результата</th>\n",
       "      <td>269</td>\n",
       "    </tr>\n",
       "    <tr>\n",
       "      <th>самые сильные студенты</th>\n",
       "      <td>427</td>\n",
       "    </tr>\n",
       "    <tr>\n",
       "      <th>отличные, но долгие результаты</th>\n",
       "      <td>484</td>\n",
       "    </tr>\n",
       "    <tr>\n",
       "      <th>средние, но долгие результаты</th>\n",
       "      <td>1452</td>\n",
       "    </tr>\n",
       "    <tr>\n",
       "      <th>средние быстрые результаты</th>\n",
       "      <td>1706</td>\n",
       "    </tr>\n",
       "  </tbody>\n",
       "</table>\n",
       "</div>"
      ],
      "text/plain": [
       "                                           students_number\n",
       "Segment                                                   \n",
       "очень слабые результаты                                  1\n",
       "слабые результаты                                        3\n",
       "быстрая сдача, но очень слабые результаты                6\n",
       "быстрая сдача, но слабые результаты                     18\n",
       "самые слабые студенты                                  267\n",
       "быстрая сдача, но отсутсвие результата                 269\n",
       "самые сильные студенты                                 427\n",
       "отличные, но долгие результаты                         484\n",
       "средние, но долгие результаты                         1452\n",
       "средние быстрые результаты                            1706"
      ]
     },
     "execution_count": 115,
     "metadata": {},
     "output_type": "execute_result"
    }
   ],
   "source": [
    "RFM_results = df_rfm.groupby('Segment')\\\n",
    "              .agg({'id_student':'count'})\\\n",
    "              .rename(columns={'id_student':'students_number'})\\\n",
    "              .sort_values('students_number')\n",
    "RFM_results"
   ]
  },
  {
   "cell_type": "markdown",
   "metadata": {},
   "source": [
    "### Выводы: \n",
    "1. Наибольшее количество студентов имеет средние результаты (все попытки сдать экзамен успешные со средней оценков 3-4 балла (в переводе в пятибальную шкалу))\n",
    "2. Самых сильных студентов (сдали все экзамены на \"отлично\") гораздно больше, чем самых слабых студентов (не сдали ни одного экзамена успешно)\n",
    "3. Среднее время сдачи студентом одного экзамена не влияет на успеваемость и не отражается на среднем балле за экзамен"
   ]
  }
 ],
 "metadata": {
  "kernelspec": {
   "display_name": "Python 3",
   "language": "python",
   "name": "python3"
  },
  "language_info": {
   "codemirror_mode": {
    "name": "ipython",
    "version": 3
   },
   "file_extension": ".py",
   "mimetype": "text/x-python",
   "name": "python",
   "nbconvert_exporter": "python",
   "pygments_lexer": "ipython3",
   "version": "3.7.3"
  }
 },
 "nbformat": 4,
 "nbformat_minor": 4
}
